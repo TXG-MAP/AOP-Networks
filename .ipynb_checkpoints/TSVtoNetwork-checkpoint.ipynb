{
 "cells": [
  {
   "cell_type": "code",
   "execution_count": 25,
   "id": "e403b04d",
   "metadata": {},
   "outputs": [
    {
     "name": "stdout",
     "output_type": "stream",
     "text": [
      "Requirement already satisfied: pip in /home/marvin.martens/anaconda3/lib/python3.7/site-packages (23.3.2)\n",
      "Collecting pip\n",
      "  Downloading pip-24.0-py3-none-any.whl.metadata (3.6 kB)\n",
      "Downloading pip-24.0-py3-none-any.whl (2.1 MB)\n",
      "\u001b[2K   \u001b[38;2;114;156;31m━━━━━━━━━━━━━━━━━━━━━━━━━━━━━━━━━━━━━━━━\u001b[0m \u001b[32m2.1/2.1 MB\u001b[0m \u001b[31m9.0 MB/s\u001b[0m eta \u001b[36m0:00:00\u001b[0m\n",
      "\u001b[?25h\u001b[33mWARNING: Error parsing requirements for pyjwt: [Errno 2] No such file or directory: '/home/marvin.martens/anaconda3/lib/python3.7/site-packages/PyJWT-1.7.1.dist-info/METADATA'\u001b[0m\u001b[33m\n",
      "\u001b[0m\u001b[33mDEPRECATION: jwt 1.0.0 has a non-standard dependency specifier cryptography<3.*,>=2.2.2. pip 24.0 will enforce this behaviour change. A possible replacement is to upgrade to a newer version of jwt or contact the author to suggest that they release a version with a conforming dependency specifiers. Discussion can be found at https://github.com/pypa/pip/issues/12063\u001b[0m\u001b[33m\n",
      "\u001b[0m\u001b[33mDEPRECATION: pandas 0.24.2 has a non-standard dependency specifier pytz>=2011k. pip 24.0 will enforce this behaviour change. A possible replacement is to upgrade to a newer version of pandas or contact the author to suggest that they release a version with a conforming dependency specifiers. Discussion can be found at https://github.com/pypa/pip/issues/12063\u001b[0m\u001b[33m\n",
      "\u001b[0mInstalling collected packages: pip\n",
      "  Attempting uninstall: pip\n",
      "    Found existing installation: pip 23.3.2\n",
      "    Uninstalling pip-23.3.2:\n",
      "      Successfully uninstalled pip-23.3.2\n",
      "Successfully installed pip-24.0\n",
      "Requirement already satisfied: watermark in /home/marvin.martens/anaconda3/lib/python3.7/site-packages (1.8.1)\n",
      "Requirement already satisfied: ipython in /home/marvin.martens/anaconda3/lib/python3.7/site-packages (from watermark) (7.6.1)\n",
      "Requirement already satisfied: setuptools>=18.5 in /home/marvin.martens/anaconda3/lib/python3.7/site-packages (from ipython->watermark) (41.0.1)\n",
      "Requirement already satisfied: jedi>=0.10 in /home/marvin.martens/anaconda3/lib/python3.7/site-packages (from ipython->watermark) (0.18.1)\n",
      "Requirement already satisfied: decorator in /home/marvin.martens/anaconda3/lib/python3.7/site-packages (from ipython->watermark) (5.1.1)\n",
      "Requirement already satisfied: pickleshare in /home/marvin.martens/anaconda3/lib/python3.7/site-packages (from ipython->watermark) (0.7.5)\n",
      "Requirement already satisfied: traitlets>=4.2 in /home/marvin.martens/anaconda3/lib/python3.7/site-packages (from ipython->watermark) (4.3.2)\n",
      "Requirement already satisfied: prompt-toolkit<2.1.0,>=2.0.0 in /home/marvin.martens/anaconda3/lib/python3.7/site-packages (from ipython->watermark) (2.0.9)\n",
      "Requirement already satisfied: pygments in /home/marvin.martens/anaconda3/lib/python3.7/site-packages (from ipython->watermark) (2.11.2)\n",
      "Requirement already satisfied: backcall in /home/marvin.martens/anaconda3/lib/python3.7/site-packages (from ipython->watermark) (0.2.0)\n",
      "Requirement already satisfied: pexpect in /home/marvin.martens/anaconda3/lib/python3.7/site-packages (from ipython->watermark) (4.8.0)\n",
      "Requirement already satisfied: parso<0.9.0,>=0.8.0 in /home/marvin.martens/anaconda3/lib/python3.7/site-packages (from jedi>=0.10->ipython->watermark) (0.8.3)\n",
      "Requirement already satisfied: six>=1.9.0 in /home/marvin.martens/anaconda3/lib/python3.7/site-packages (from prompt-toolkit<2.1.0,>=2.0.0->ipython->watermark) (1.16.0)\n",
      "Requirement already satisfied: wcwidth in /home/marvin.martens/anaconda3/lib/python3.7/site-packages (from prompt-toolkit<2.1.0,>=2.0.0->ipython->watermark) (0.2.5)\n",
      "Requirement already satisfied: ipython-genutils in /home/marvin.martens/anaconda3/lib/python3.7/site-packages (from traitlets>=4.2->ipython->watermark) (0.2.0)\n",
      "Requirement already satisfied: ptyprocess>=0.5 in /home/marvin.martens/anaconda3/lib/python3.7/site-packages (from pexpect->ipython->watermark) (0.7.0)\n",
      "\u001b[33mWARNING: Error parsing requirements for pyjwt: [Errno 2] No such file or directory: '/home/marvin.martens/anaconda3/lib/python3.7/site-packages/PyJWT-1.7.1.dist-info/METADATA'\u001b[0m\u001b[33m\n",
      "\u001b[0m\u001b[33mDEPRECATION: jwt 1.0.0 has a non-standard dependency specifier cryptography<3.*,>=2.2.2. pip 24.1 will enforce this behaviour change. A possible replacement is to upgrade to a newer version of jwt or contact the author to suggest that they release a version with a conforming dependency specifiers. Discussion can be found at https://github.com/pypa/pip/issues/12063\u001b[0m\u001b[33m\n",
      "\u001b[0m\u001b[33mDEPRECATION: pandas 0.24.2 has a non-standard dependency specifier pytz>=2011k. pip 24.1 will enforce this behaviour change. A possible replacement is to upgrade to a newer version of pandas or contact the author to suggest that they release a version with a conforming dependency specifiers. Discussion can be found at https://github.com/pypa/pip/issues/12063\u001b[0m\u001b[33m\n",
      "\u001b[0m"
     ]
    }
   ],
   "source": [
    "import sys\n",
    "\n",
    "!{sys.executable} -m pip install --upgrade pip \n",
    "!{sys.executable} -m pip install watermark\n",
    "\n",
    "try:\n",
    "    from SPARQLWrapper import SPARQLWrapper, JSON\n",
    "except ImportError:\n",
    "    !{sys.executable} -m pip install sparqlwrapper\n",
    "    from SPARQLWrapper import SPARQLWrapper, JSON\n",
    "\n",
    "try:\n",
    "    import pandas as pd\n",
    "except ImportError:\n",
    "    !{sys.executable} -m pip install pandas\n",
    "    import pandas as pd\n",
    "pd.set_option('display.max_colwidth', -1)"
   ]
  },
  {
   "cell_type": "code",
   "execution_count": null,
   "id": "9e4a9ad1",
   "metadata": {},
   "outputs": [],
   "source": []
  },
  {
   "cell_type": "code",
   "execution_count": 4,
   "id": "41efab9b",
   "metadata": {},
   "outputs": [],
   "source": [
    "\n",
    "df = pd.read_csv('AOP-Wiki_AO_classification.tsv', sep='\\t')"
   ]
  },
  {
   "cell_type": "code",
   "execution_count": 6,
   "id": "7018546c",
   "metadata": {},
   "outputs": [
    {
     "data": {
      "text/html": [
       "<div>\n",
       "<style scoped>\n",
       "    .dataframe tbody tr th:only-of-type {\n",
       "        vertical-align: middle;\n",
       "    }\n",
       "\n",
       "    .dataframe tbody tr th {\n",
       "        vertical-align: top;\n",
       "    }\n",
       "\n",
       "    .dataframe thead th {\n",
       "        text-align: right;\n",
       "    }\n",
       "</style>\n",
       "<table border=\"1\" class=\"dataframe\">\n",
       "  <thead>\n",
       "    <tr style=\"text-align: right;\">\n",
       "      <th></th>\n",
       "      <th>AOP</th>\n",
       "      <th>AOPName</th>\n",
       "      <th>ao</th>\n",
       "      <th>aotitle</th>\n",
       "      <th>organ</th>\n",
       "    </tr>\n",
       "  </thead>\n",
       "  <tbody>\n",
       "    <tr>\n",
       "      <th>0</th>\n",
       "      <td>https://identifiers.org/aop/1</td>\n",
       "      <td>Uncharacterized liver damage leading to hepato...</td>\n",
       "      <td>https://identifiers.org/aop.events/334</td>\n",
       "      <td>Promotion, Hepatocelluar carcinoma</td>\n",
       "      <td>Liver</td>\n",
       "    </tr>\n",
       "    <tr>\n",
       "      <th>1</th>\n",
       "      <td>https://identifiers.org/aop/10</td>\n",
       "      <td>Binding to the picrotoxin site of ionotropic G...</td>\n",
       "      <td>https://identifiers.org/aop.events/613</td>\n",
       "      <td>Occurrence, Epileptic seizure</td>\n",
       "      <td>Brain</td>\n",
       "    </tr>\n",
       "    <tr>\n",
       "      <th>2</th>\n",
       "      <td>https://identifiers.org/aop/100</td>\n",
       "      <td>Cyclooxygenase inhibition leading to reproduct...</td>\n",
       "      <td>https://identifiers.org/aop.events/360</td>\n",
       "      <td>Decrease, Population growth rate</td>\n",
       "      <td>Other</td>\n",
       "    </tr>\n",
       "    <tr>\n",
       "      <th>3</th>\n",
       "      <td>https://identifiers.org/aop/101</td>\n",
       "      <td>Cyclooxygenase inhibition leading to reproduct...</td>\n",
       "      <td>https://identifiers.org/aop.events/360</td>\n",
       "      <td>Decrease, Population growth rate</td>\n",
       "      <td>Other</td>\n",
       "    </tr>\n",
       "    <tr>\n",
       "      <th>4</th>\n",
       "      <td>https://identifiers.org/aop/102</td>\n",
       "      <td>Cyclooxygenase inhibition leading to reproduct...</td>\n",
       "      <td>https://identifiers.org/aop.events/360</td>\n",
       "      <td>Decrease, Population growth rate</td>\n",
       "      <td>Other</td>\n",
       "    </tr>\n",
       "    <tr>\n",
       "      <th>5</th>\n",
       "      <td>https://identifiers.org/aop/103</td>\n",
       "      <td>Cyclooxygenase inhibition leading to reproduct...</td>\n",
       "      <td>https://identifiers.org/aop.events/360</td>\n",
       "      <td>Decrease, Population growth rate</td>\n",
       "      <td>Other</td>\n",
       "    </tr>\n",
       "    <tr>\n",
       "      <th>6</th>\n",
       "      <td>https://identifiers.org/aop/104</td>\n",
       "      <td>Altered ion channel activity leading impaired ...</td>\n",
       "      <td>https://identifiers.org/aop.events/351</td>\n",
       "      <td>Increased Mortality</td>\n",
       "      <td>Other</td>\n",
       "    </tr>\n",
       "    <tr>\n",
       "      <th>7</th>\n",
       "      <td>https://identifiers.org/aop/105</td>\n",
       "      <td>Alpha2u-microglobulin cytotoxicity leading to ...</td>\n",
       "      <td>https://identifiers.org/aop.events/713</td>\n",
       "      <td>Increase, Adenomas/carcinomas (renal tubular)</td>\n",
       "      <td>Kidney</td>\n",
       "    </tr>\n",
       "    <tr>\n",
       "      <th>8</th>\n",
       "      <td>https://identifiers.org/aop/106</td>\n",
       "      <td>Chemical binding to tubulin in oocytes leading...</td>\n",
       "      <td>https://identifiers.org/aop.events/728</td>\n",
       "      <td>Increase, Aneuploid offspring</td>\n",
       "      <td>Other</td>\n",
       "    </tr>\n",
       "    <tr>\n",
       "      <th>9</th>\n",
       "      <td>https://identifiers.org/aop/107</td>\n",
       "      <td>Constitutive androstane receptor activation le...</td>\n",
       "      <td>https://identifiers.org/aop.events/719</td>\n",
       "      <td>Increase, hepatocellular adenomas and carcinomas</td>\n",
       "      <td>Liver</td>\n",
       "    </tr>\n",
       "  </tbody>\n",
       "</table>\n",
       "</div>"
      ],
      "text/plain": [
       "                               AOP  \\\n",
       "0    https://identifiers.org/aop/1   \n",
       "1   https://identifiers.org/aop/10   \n",
       "2  https://identifiers.org/aop/100   \n",
       "3  https://identifiers.org/aop/101   \n",
       "4  https://identifiers.org/aop/102   \n",
       "5  https://identifiers.org/aop/103   \n",
       "6  https://identifiers.org/aop/104   \n",
       "7  https://identifiers.org/aop/105   \n",
       "8  https://identifiers.org/aop/106   \n",
       "9  https://identifiers.org/aop/107   \n",
       "\n",
       "                                             AOPName  \\\n",
       "0  Uncharacterized liver damage leading to hepato...   \n",
       "1  Binding to the picrotoxin site of ionotropic G...   \n",
       "2  Cyclooxygenase inhibition leading to reproduct...   \n",
       "3  Cyclooxygenase inhibition leading to reproduct...   \n",
       "4  Cyclooxygenase inhibition leading to reproduct...   \n",
       "5  Cyclooxygenase inhibition leading to reproduct...   \n",
       "6  Altered ion channel activity leading impaired ...   \n",
       "7  Alpha2u-microglobulin cytotoxicity leading to ...   \n",
       "8  Chemical binding to tubulin in oocytes leading...   \n",
       "9  Constitutive androstane receptor activation le...   \n",
       "\n",
       "                                       ao  \\\n",
       "0  https://identifiers.org/aop.events/334   \n",
       "1  https://identifiers.org/aop.events/613   \n",
       "2  https://identifiers.org/aop.events/360   \n",
       "3  https://identifiers.org/aop.events/360   \n",
       "4  https://identifiers.org/aop.events/360   \n",
       "5  https://identifiers.org/aop.events/360   \n",
       "6  https://identifiers.org/aop.events/351   \n",
       "7  https://identifiers.org/aop.events/713   \n",
       "8  https://identifiers.org/aop.events/728   \n",
       "9  https://identifiers.org/aop.events/719   \n",
       "\n",
       "                                            aotitle   organ  \n",
       "0                Promotion, Hepatocelluar carcinoma   Liver  \n",
       "1                     Occurrence, Epileptic seizure   Brain  \n",
       "2                  Decrease, Population growth rate   Other  \n",
       "3                  Decrease, Population growth rate   Other  \n",
       "4                  Decrease, Population growth rate   Other  \n",
       "5                  Decrease, Population growth rate   Other  \n",
       "6                               Increased Mortality   Other  \n",
       "7     Increase, Adenomas/carcinomas (renal tubular)  Kidney  \n",
       "8                     Increase, Aneuploid offspring   Other  \n",
       "9  Increase, hepatocellular adenomas and carcinomas   Liver  "
      ]
     },
     "execution_count": 6,
     "metadata": {},
     "output_type": "execute_result"
    }
   ],
   "source": [
    "df.head(10)"
   ]
  },
  {
   "cell_type": "code",
   "execution_count": 20,
   "id": "cd80c757",
   "metadata": {},
   "outputs": [],
   "source": [
    "organdict = {}\n",
    "for index, row in df.iterrows(): \n",
    "    if not row[4] in organdict:\n",
    "        organdict[row[4]] = set()\n",
    "    organdict[row[4]].add(row[0])\n"
   ]
  },
  {
   "cell_type": "code",
   "execution_count": 21,
   "id": "8b5db574",
   "metadata": {},
   "outputs": [],
   "source": [
    "del(organdict['Other'])"
   ]
  },
  {
   "cell_type": "code",
   "execution_count": 27,
   "id": "afad3e26",
   "metadata": {},
   "outputs": [
    {
     "name": "stdout",
     "output_type": "stream",
     "text": [
      "Liver :  31\n",
      "Brain :  39\n",
      "Kidney :  16\n",
      "Lung :  22\n"
     ]
    }
   ],
   "source": [
    "for item in organdict:\n",
    "    print(item,': ',len(organdict[item]))\n"
   ]
  },
  {
   "cell_type": "code",
   "execution_count": 28,
   "id": "c35de1bc",
   "metadata": {},
   "outputs": [],
   "source": [
    "AOPWikiSPARQL = SPARQLWrapper(\"https://aopwiki.rdf.bigcat-bioinformatics.org/sparql/\")\n",
    "AOPWikiSPARQL.setReturnFormat(JSON) "
   ]
  },
  {
   "cell_type": "code",
   "execution_count": null,
   "id": "cc564973",
   "metadata": {},
   "outputs": [],
   "source": []
  },
  {
   "cell_type": "code",
   "execution_count": 58,
   "id": "0b245f92",
   "metadata": {},
   "outputs": [],
   "source": [
    "import matplotlib.pyplot as plt\n",
    "\n",
    "def update_bar_chart(value, chart_data):\n",
    "    if value in chart_data:\n",
    "        chart_data[value] += 1\n",
    "    else:\n",
    "        chart_data[value] = 1\n",
    "    \n",
    "    plt.bar(chart_data.keys(), chart_data.values())\n",
    "    plt.xlabel('Number')\n",
    "    plt.ylabel('Frequency')\n",
    "    plt.xlim(0, 30)\n",
    "    plt.title('Bar Chart of Frequency')\n",
    "    \n"
   ]
  },
  {
   "cell_type": "code",
   "execution_count": 59,
   "id": "08a6c234",
   "metadata": {},
   "outputs": [
    {
     "name": "stdout",
     "output_type": "stream",
     "text": [
      "Liver\n",
      "The AOP  https://identifiers.org/aop/117  has 3 KERs\n",
      "The AOP  https://identifiers.org/aop/36  has 7 KERs\n",
      "The AOP  https://identifiers.org/aop/362  has 9 KERs\n",
      "The AOP  https://identifiers.org/aop/401  has 0 KERs\n",
      "The AOP  https://identifiers.org/aop/273  has 15 KERs\n",
      "The AOP  https://identifiers.org/aop/38  has 7 KERs\n",
      "The AOP  https://identifiers.org/aop/423  has 1 KERs\n",
      "The AOP  https://identifiers.org/aop/318  has 4 KERs\n",
      "The AOP  https://identifiers.org/aop/285  has 6 KERs\n",
      "The AOP  https://identifiers.org/aop/278  has 7 KERs\n",
      "The AOP  https://identifiers.org/aop/220  has 7 KERs\n",
      "The AOP  https://identifiers.org/aop/58  has 24 KERs\n",
      "The AOP  https://identifiers.org/aop/232  has 7 KERs\n",
      "The AOP  https://identifiers.org/aop/46  has 8 KERs\n",
      "The AOP  https://identifiers.org/aop/108  has 5 KERs\n",
      "The AOP  https://identifiers.org/aop/213  has 5 KERs\n",
      "The AOP  https://identifiers.org/aop/60  has 15 KERs\n",
      "The AOP  https://identifiers.org/aop/1  has 3 KERs\n",
      "The AOP  https://identifiers.org/aop/107  has 4 KERs\n",
      "The AOP  https://identifiers.org/aop/118  has 3 KERs\n",
      "The AOP  https://identifiers.org/aop/27  has 9 KERs\n",
      "The AOP  https://identifiers.org/aop/144  has 8 KERs\n",
      "The AOP  https://identifiers.org/aop/34  has 14 KERs\n",
      "The AOP  https://identifiers.org/aop/383  has 5 KERs\n",
      "The AOP  https://identifiers.org/aop/61  has 9 KERs\n",
      "The AOP  https://identifiers.org/aop/209  has 8 KERs\n",
      "The AOP  https://identifiers.org/aop/62  has 3 KERs\n",
      "The AOP  https://identifiers.org/aop/57  has 17 KERs\n",
      "The AOP  https://identifiers.org/aop/130  has 25 KERs\n",
      "The AOP  https://identifiers.org/aop/41  has 7 KERs\n",
      "The AOP  https://identifiers.org/aop/37  has 7 KERs\n"
     ]
    },
    {
     "data": {
      "image/png": "[encoded data removed]",
      "text/plain": [
       "<Figure size 432x288 with 1 Axes>"
      ]
     },
     "metadata": {
      "needs_background": "light"
     },
     "output_type": "display_data"
    },
    {
     "name": "stdout",
     "output_type": "stream",
     "text": [
      "Number of KERs for AOP network of Liver: 252\n",
      "Brain\n",
      "The AOP  https://identifiers.org/aop/405  has 5 KERs\n",
      "The AOP  https://identifiers.org/aop/223  has 7 KERs\n",
      "The AOP  https://identifiers.org/aop/152  has 4 KERs\n",
      "The AOP  https://identifiers.org/aop/275  has 4 KERs\n",
      "The AOP  https://identifiers.org/aop/222  has 10 KERs\n",
      "The AOP  https://identifiers.org/aop/13  has 11 KERs\n",
      "The AOP  https://identifiers.org/aop/17  has 11 KERs\n",
      "The AOP  https://identifiers.org/aop/42  has 12 KERs\n",
      "The AOP  https://identifiers.org/aop/3  has 8 KERs\n",
      "The AOP  https://identifiers.org/aop/231  has 8 KERs\n",
      "The AOP  https://identifiers.org/aop/65  has 6 KERs\n",
      "The AOP  https://identifiers.org/aop/300  has 5 KERs\n",
      "The AOP  https://identifiers.org/aop/113  has 5 KERs\n",
      "The AOP  https://identifiers.org/aop/429  has 9 KERs\n",
      "The AOP  https://identifiers.org/aop/450  has 6 KERs\n",
      "The AOP  https://identifiers.org/aop/464  has 25 KERs\n",
      "The AOP  https://identifiers.org/aop/221  has 9 KERs\n",
      "The AOP  https://identifiers.org/aop/10  has 5 KERs\n",
      "The AOP  https://identifiers.org/aop/235  has 4 KERs\n",
      "The AOP  https://identifiers.org/aop/281  has 11 KERs\n",
      "The AOP  https://identifiers.org/aop/225  has 9 KERs\n",
      "The AOP  https://identifiers.org/aop/279  has 3 KERs\n",
      "The AOP  https://identifiers.org/aop/260  has 8 KERs\n",
      "The AOP  https://identifiers.org/aop/215  has 14 KERs\n",
      "The AOP  https://identifiers.org/aop/230  has 9 KERs\n",
      "The AOP  https://identifiers.org/aop/475  has 8 KERs\n",
      "The AOP  https://identifiers.org/aop/54  has 15 KERs\n",
      "The AOP  https://identifiers.org/aop/312  has 8 KERs\n",
      "The AOP  https://identifiers.org/aop/134  has 9 KERs\n",
      "The AOP  https://identifiers.org/aop/224  has 9 KERs\n",
      "The AOP  https://identifiers.org/aop/374  has 4 KERs\n",
      "The AOP  https://identifiers.org/aop/169  has 7 KERs\n",
      "The AOP  https://identifiers.org/aop/214  has 26 KERs\n",
      "The AOP  https://identifiers.org/aop/449  has 7 KERs\n",
      "The AOP  https://identifiers.org/aop/442  has 2 KERs\n",
      "The AOP  https://identifiers.org/aop/12  has 8 KERs\n",
      "The AOP  https://identifiers.org/aop/236  has 4 KERs\n",
      "The AOP  https://identifiers.org/aop/395  has 0 KERs\n",
      "The AOP  https://identifiers.org/aop/48  has 10 KERs\n"
     ]
    },
    {
     "data": {
      "image/png": "[encoded data removed]",
      "text/plain": [
       "<Figure size 432x288 with 1 Axes>"
      ]
     },
     "metadata": {
      "needs_background": "light"
     },
     "output_type": "display_data"
    },
    {
     "name": "stdout",
     "output_type": "stream",
     "text": [
      "Number of KERs for AOP network of Brain: 325\n",
      "Kidney\n",
      "The AOP  https://identifiers.org/aop/437  has 4 KERs\n",
      "The AOP  https://identifiers.org/aop/284  has 0 KERs\n",
      "The AOP  https://identifiers.org/aop/384  has 5 KERs\n",
      "The AOP  https://identifiers.org/aop/413  has 5 KERs\n",
      "The AOP  https://identifiers.org/aop/116  has 3 KERs\n",
      "The AOP  https://identifiers.org/aop/257  has 4 KERs\n",
      "The AOP  https://identifiers.org/aop/258  has 4 KERs\n",
      "The AOP  https://identifiers.org/aop/177  has 11 KERs\n",
      "The AOP  https://identifiers.org/aop/33  has 2 KERs\n",
      "The AOP  https://identifiers.org/aop/447  has 14 KERs\n",
      "The AOP  https://identifiers.org/aop/186  has 6 KERs\n",
      "The AOP  https://identifiers.org/aop/256  has 4 KERs\n",
      "The AOP  https://identifiers.org/aop/138  has 9 KERs\n",
      "The AOP  https://identifiers.org/aop/128  has 24 KERs\n",
      "The AOP  https://identifiers.org/aop/105  has 5 KERs\n",
      "The AOP  https://identifiers.org/aop/276  has 5 KERs\n"
     ]
    },
    {
     "data": {
      "image/png": "[encoded data removed]",
      "text/plain": [
       "<Figure size 432x288 with 1 Axes>"
      ]
     },
     "metadata": {
      "needs_background": "light"
     },
     "output_type": "display_data"
    },
    {
     "name": "stdout",
     "output_type": "stream",
     "text": [
      "Number of KERs for AOP network of Kidney: 105\n",
      "Lung\n",
      "The AOP  https://identifiers.org/aop/302  has 9 KERs\n",
      "The AOP  https://identifiers.org/aop/320  has 8 KERs\n",
      "The AOP  https://identifiers.org/aop/409  has 8 KERs\n",
      "The AOP  https://identifiers.org/aop/173  has 7 KERs\n",
      "The AOP  https://identifiers.org/aop/109  has 4 KERs\n",
      "The AOP  https://identifiers.org/aop/451  has 11 KERs\n",
      "The AOP  https://identifiers.org/aop/347  has 9 KERs\n",
      "The AOP  https://identifiers.org/aop/148  has 4 KERs\n",
      "The AOP  https://identifiers.org/aop/425  has 5 KERs\n",
      "The AOP  https://identifiers.org/aop/419  has 0 KERs\n",
      "The AOP  https://identifiers.org/aop/206  has 5 KERs\n",
      "The AOP  https://identifiers.org/aop/452  has 15 KERs\n",
      "The AOP  https://identifiers.org/aop/411  has 3 KERs\n",
      "The AOP  https://identifiers.org/aop/424  has 5 KERs\n",
      "The AOP  https://identifiers.org/aop/272  has 14 KERs\n",
      "The AOP  https://identifiers.org/aop/303  has 6 KERs\n",
      "The AOP  https://identifiers.org/aop/171  has 6 KERs\n",
      "The AOP  https://identifiers.org/aop/241  has 6 KERs\n",
      "The AOP  https://identifiers.org/aop/382  has 5 KERs\n",
      "The AOP  https://identifiers.org/aop/319  has 7 KERs\n",
      "The AOP  https://identifiers.org/aop/280  has 7 KERs\n",
      "The AOP  https://identifiers.org/aop/196  has 10 KERs\n"
     ]
    },
    {
     "data": {
      "image/png": "[encoded data removed]",
      "text/plain": [
       "<Figure size 432x288 with 1 Axes>"
      ]
     },
     "metadata": {
      "needs_background": "light"
     },
     "output_type": "display_data"
    },
    {
     "name": "stdout",
     "output_type": "stream",
     "text": [
      "Number of KERs for AOP network of Lung: 154\n"
     ]
    }
   ],
   "source": [
    "kertable = pd.DataFrame(columns=['KEup','KEdown'])\n",
    "for item in organdict:\n",
    "    chart_data = {}\n",
    "    print(item)\n",
    "    kertable = pd.DataFrame(columns=['KEup','KEdown'])\n",
    "    for AOP in organdict[item]:\n",
    "        sparqlquery = '''select distinct ?KER ?KEup ?KEdown where {<'''+AOP+'''> a aopo:AdverseOutcomePathway ; aopo:has_key_event_relationship ?KER. ?KER aopo:has_upstream_key_event ?KEup ; aopo:has_downstream_key_event ?KEdown.}'''\n",
    "        AOPWikiSPARQL.setQuery(sparqlquery)\n",
    "        results = AOPWikiSPARQL.query().convert()\n",
    "        x = []\n",
    "        for result in results[\"results\"][\"bindings\"]:\n",
    "            x.append(result[\"KER\"][\"value\"])\n",
    "            kertable = kertable.append({\n",
    "                'KEup': result[\"KEup\"][\"value\"],\n",
    "                'KEdown': result[\"KEdown\"][\"value\"]\n",
    "            }, ignore_index=True)\n",
    "        update_bar_chart(len(x),chart_data)\n",
    "        print(\"The AOP \",AOP,\" has \" + str(len(x)) + \" KERs\")\n",
    "        \n",
    "    plt.show()\n",
    "    print(\"Number of KERs for AOP network of \" + item + \": \"+str(len(kertable)))\n",
    "    kertable.to_csv(item+'_KERs.csv', index=False)"
   ]
  },
  {
   "cell_type": "code",
   "execution_count": 56,
   "id": "3c0f2a1b",
   "metadata": {},
   "outputs": [],
   "source": []
  },
  {
   "cell_type": "code",
   "execution_count": 62,
   "id": "94ef6270",
   "metadata": {},
   "outputs": [
    {
     "name": "stdout",
     "output_type": "stream",
     "text": [
      "Opening sampleData/sessions/Yeast Perturbation.cys...\n"
     ]
    },
    {
     "ename": "AttributeError",
     "evalue": "module 'py4cytoscape.networks' has no attribute 'create_from_edge_list'",
     "output_type": "error",
     "traceback": [
      "\u001b[0;31m---------------------------------------------------------------------------\u001b[0m",
      "\u001b[0;31mAttributeError\u001b[0m                            Traceback (most recent call last)",
      "\u001b[0;32m<ipython-input-62-e836de4a3ce4>\u001b[0m in \u001b[0;36m<module>\u001b[0;34m\u001b[0m\n\u001b[1;32m      9\u001b[0m \u001b[0;34m\u001b[0m\u001b[0m\n\u001b[1;32m     10\u001b[0m \u001b[0;31m# Create a network from the DataFrame\u001b[0m\u001b[0;34m\u001b[0m\u001b[0;34m\u001b[0m\u001b[0;34m\u001b[0m\u001b[0m\n\u001b[0;32m---> 11\u001b[0;31m \u001b[0mnetwork\u001b[0m \u001b[0;34m=\u001b[0m \u001b[0mp4c\u001b[0m\u001b[0;34m.\u001b[0m\u001b[0mnetworks\u001b[0m\u001b[0;34m.\u001b[0m\u001b[0mcreate_from_edge_list\u001b[0m\u001b[0;34m(\u001b[0m\u001b[0mdf\u001b[0m\u001b[0;34m[\u001b[0m\u001b[0;34m'Source'\u001b[0m\u001b[0;34m]\u001b[0m\u001b[0;34m,\u001b[0m \u001b[0mdf\u001b[0m\u001b[0;34m[\u001b[0m\u001b[0;34m'Target'\u001b[0m\u001b[0;34m]\u001b[0m\u001b[0;34m,\u001b[0m \u001b[0mtitle\u001b[0m\u001b[0;34m=\u001b[0m\u001b[0;34m'Your Network'\u001b[0m\u001b[0;34m)\u001b[0m\u001b[0;34m\u001b[0m\u001b[0;34m\u001b[0m\u001b[0m\n\u001b[0m\u001b[1;32m     12\u001b[0m \u001b[0;34m\u001b[0m\u001b[0m\n\u001b[1;32m     13\u001b[0m \u001b[0;34m\u001b[0m\u001b[0m\n",
      "\u001b[0;31mAttributeError\u001b[0m: module 'py4cytoscape.networks' has no attribute 'create_from_edge_list'"
     ]
    }
   ],
   "source": [
    "import pandas as pd\n",
    "import py4cytoscape as p4c\n",
    "\n",
    "# Read the CSV file into a DataFrame\n",
    "df = pd.read_csv('Brain_KERs.csv')\n",
    "\n",
    "nodes = pd.DataFrame(data={'id': [\"node 0\",\"node 1\",\"node 2\",\"node 3\"], 'group': [\"A\",\"A\",\"B\",\"B\"], 'score': [20,10,15,5]})\n",
    "edges = pd.DataFrame(data={'source': [\"node 0\",\"node 0\",\"node 0\",\"node 2\"], 'target': [\"node 1\",\"node 2\",\"node 3\",\"node 3\"], 'interaction': [\"inhibits\",\"interacts\",\"activates\",\"interacts\"], 'weight': [5.1,3.0,5.2,9.9]})\n",
    "\n",
    "p4c.create_network_from_data_frames(nodes, edges, title=\"my first network\", collection=\"DataFrame Example\")"
   ]
  },
  {
   "cell_type": "code",
   "execution_count": null,
   "id": "84d8cc79",
   "metadata": {},
   "outputs": [],
   "source": []
  }
 ],
 "metadata": {
  "kernelspec": {
   "display_name": "Python 3",
   "language": "python",
   "name": "python3"
  },
  "language_info": {
   "codemirror_mode": {
    "name": "ipython",
    "version": 3
   },
   "file_extension": ".py",
   "mimetype": "text/x-python",
   "name": "python",
   "nbconvert_exporter": "python",
   "pygments_lexer": "ipython3",
   "version": "3.7.16"
  }
 },
 "nbformat": 4,
 "nbformat_minor": 5
}
